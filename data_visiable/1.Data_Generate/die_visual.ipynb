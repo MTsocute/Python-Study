{
 "cells": [
  {
   "cell_type": "markdown",
   "source": [
    "# Pygal 可视化"
   ],
   "metadata": {
    "collapsed": false
   }
  },
  {
   "cell_type": "code",
   "execution_count": 4,
   "outputs": [
    {
     "name": "stdout",
     "output_type": "stream",
     "text": [
      "[6, 2, 6, 6, 5, 1, 3, 1, 3, 2, 4, 5, 6, 5, 4, 3, 5, 6, 3, 1, 1, 1, 2, 4, 5, 1, 5, 1, 1, 6, 5, 1, 5, 3, 5, 2, 3, 1, 5, 6, 3, 6, 5, 2, 1, 1, 4, 6, 6, 6, 6, 6, 3, 1, 4, 5, 5, 2, 5, 2, 3, 3, 1, 5, 4, 4, 3, 6, 6, 2, 4, 6, 5, 4, 6, 3, 5, 6, 6, 4, 6, 6, 1, 1, 2, 2, 2, 5, 4, 2, 5, 6, 3, 1, 6, 1, 4, 2, 1, 6]\n",
      "[19, 13, 13, 12, 19, 24]\n"
     ]
    }
   ],
   "source": [
    "from die import Die\n",
    "\n",
    "# 创建一个六面骰子\n",
    "die = Die()\n",
    "\n",
    "results = []\n",
    "\n",
    "for roll_num in range(100):\n",
    "    results.append(die.roll())\n",
    "\n",
    "print(results)\n",
    "\n",
    "# 分析各个点数出现的频率\n",
    "frequency = []\n",
    "\n",
    "for i in range(1, die.num_sides + 1):\n",
    "    frequency.append(results.count(i))\n",
    "\n",
    "print(frequency)"
   ],
   "metadata": {
    "collapsed": false,
    "ExecuteTime": {
     "end_time": "2023-05-08T09:02:49.686625Z",
     "start_time": "2023-05-08T09:02:49.681485Z"
    }
   }
  },
  {
   "cell_type": "markdown",
   "source": [
    "## 对结果进行可视化"
   ],
   "metadata": {
    "collapsed": false
   }
  },
  {
   "cell_type": "code",
   "execution_count": 11,
   "outputs": [],
   "source": [
    "import pygal\n",
    "from die import Die\n",
    "\n",
    "# 创建一个六面骰子\n",
    "die = Die()\n",
    "\n",
    "results = []\n",
    "\n",
    "for roll_num in range(1000):\n",
    "    results.append(die.roll())\n",
    "\n",
    "\n",
    "# 分析各个点数出现的频率\n",
    "frequency = []\n",
    "\n",
    "for i in range(1, die.num_sides + 1):\n",
    "    frequency.append(results.count(i))\n",
    "\n",
    "# 生成直方图\n",
    "hist = pygal.Bar()\n",
    "\n",
    "# 图的大标题\n",
    "hist.title = \"Results of rolling one D6 1000 times.\"\n",
    "\n",
    "# 每一个柱子对应的标签\n",
    "hist.x_labels = ['1', '2', '3', '4', '5', '6']\n",
    "\n",
    "# 坐标轴的名字\n",
    "hist.x_title = \"Result\"\n",
    "hist.y_title = \"Frequency of Result\"\n",
    "\n",
    "# 把数据传递到图上\n",
    "hist.add('D6', frequency)\n",
    "\n",
    "# 图片存储位置 + 名字和格式\n",
    "hist.render_to_file('/Users/momo/Desktop/Python/data_visiable/images/die_visual.svg')"
   ],
   "metadata": {
    "collapsed": false,
    "ExecuteTime": {
     "end_time": "2023-05-08T09:17:58.455776Z",
     "start_time": "2023-05-08T09:17:58.439820Z"
    }
   }
  }
 ],
 "metadata": {
  "kernelspec": {
   "display_name": "Python 3",
   "language": "python",
   "name": "python3"
  },
  "language_info": {
   "codemirror_mode": {
    "name": "ipython",
    "version": 2
   },
   "file_extension": ".py",
   "mimetype": "text/x-python",
   "name": "python",
   "nbconvert_exporter": "python",
   "pygments_lexer": "ipython2",
   "version": "2.7.6"
  }
 },
 "nbformat": 4,
 "nbformat_minor": 0
}
