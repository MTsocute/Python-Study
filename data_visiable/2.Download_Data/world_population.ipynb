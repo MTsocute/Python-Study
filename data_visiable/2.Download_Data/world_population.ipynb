{
 "cells": [
  {
   "attachments": {},
   "cell_type": "markdown",
   "metadata": {
    "collapsed": false
   },
   "source": [
    "# 制作世界人口地图"
   ]
  },
  {
   "cell_type": "code",
   "execution_count": null,
   "metadata": {
    "collapsed": false
   },
   "outputs": [],
   "source": [
    "import json\n",
    "\n",
    "import pygal_maps_world\n",
    "\n",
    "filename = '/Users/momo/Desktop/Python/data_visiable/2.Download_Data/datas/population_data.json'\n",
    "\n",
    "# 把数据加载到一个列表中\n",
    "with open(filename) as f:\n",
    "    pop_data = json.load(f)\n",
    "\n",
    "# 看下列表中的数据格式\n",
    "print(pop_data[:2])"
   ]
  },
  {
   "cell_type": "code",
   "execution_count": null,
   "metadata": {
    "collapsed": false
   },
   "outputs": [],
   "source": [
    "# 打印每个国家2010年的人口数量\n",
    "for pop_dict in pop_data:\n",
    "    if pop_dict['Year'] == '2010':\n",
    "        country = pop_dict['Country Name']\n",
    "        population = int(float(pop_dict['Value']))  # 防止小数导致的报错\n",
    "        print(country + \": \" + str(population))"
   ]
  },
  {
   "attachments": {},
   "cell_type": "markdown",
   "metadata": {
    "collapsed": false
   },
   "source": [
    "## Pygal 存储的 Country Code"
   ]
  },
  {
   "cell_type": "code",
   "execution_count": null,
   "metadata": {
    "collapsed": false
   },
   "outputs": [],
   "source": [
    "from pygal_maps_world.i18n import COUNTRIES\n",
    "\n",
    "# 打印各个国家对应的国别码\n",
    "for country_code in sorted(COUNTRIES.keys()):   # 这个country 是一个恨大的字典\n",
    "    print(country_code, COUNTRIES[country_code])"
   ]
  },
  {
   "cell_type": "code",
   "execution_count": null,
   "metadata": {
    "collapsed": false
   },
   "outputs": [],
   "source": [
    "def get_country_code(country_name):\n",
    "    \"\"\" 根据指定的国家，返回对应的国别嘛 \"\"\"\n",
    "    for code, name in COUNTRIES.items():\n",
    "        if name == country_name:\n",
    "            return code\n",
    "        # 没找到就返回 None\n",
    "    return None\n",
    "\n",
    "# 测试\n",
    "print(get_country_code(\"Andorra\"))\n",
    "print(get_country_code(\"United Arab Emirates\"))\n",
    "print(get_country_code(\"Afghanistan\"))"
   ]
  },
  {
   "cell_type": "code",
   "execution_count": null,
   "metadata": {
    "collapsed": false
   },
   "outputs": [],
   "source": [
    "from pygal_maps_world.i18n import COUNTRIES\n",
    "for pop_dict in pop_data:\n",
    "    if pop_dict['Year'] == '2010':\n",
    "        country_name = pop_dict['Country Name']\n",
    "        population = int(float(pop_dict['Value']))\n",
    "        code = get_country_code(country_name)\n",
    "\n",
    "        if code:    # 这里只要 code 不是 None 就答应对应形式\n",
    "            print(code + \": \"+ str(population))\n",
    "        else:   # 找不到国别码的，丢出来\n",
    "            print('ERROR - ' + country_name)"
   ]
  },
  {
   "attachments": {},
   "cell_type": "markdown",
   "metadata": {
    "collapsed": false
   },
   "source": [
    "## 制造北美地图"
   ]
  },
  {
   "cell_type": "code",
   "execution_count": null,
   "metadata": {
    "collapsed": false
   },
   "outputs": [],
   "source": [
    "import pygal\n",
    "\n",
    "wm = pygal.maps.world.World()   # 世界地图图标基础\n",
    "\n",
    "wm.title = 'North, Central, and South America'  # 图标标题行\n",
    "\n",
    "# 生成的国家和\n",
    "wm.add('North America', ['ca', 'mx', 'us'])     # 显示北美的几个国家 Canada、 Mexico、United State\n",
    "\n",
    "wm.add('Central America', ['bz', 'cr', 'gt', 'hn', 'ni', 'pa', 'sv'])\n",
    "\n",
    "wm.add('South America', ['ar', 'bo', 'br', 'cl', 'co', 'ec', 'gf',\n",
    "'gy', 'pe', 'py', 'sr', 'uy', 've'])\n",
    "\n",
    "# 存储位置和名字\n",
    "wm.render_to_file('/Users/momo/Desktop/Python/data_visiable/images/americas.svg')"
   ]
  },
  {
   "attachments": {},
   "cell_type": "markdown",
   "metadata": {
    "collapsed": false
   },
   "source": [
    "## 显示北美地区人口数量"
   ]
  },
  {
   "cell_type": "code",
   "execution_count": null,
   "metadata": {
    "collapsed": false
   },
   "outputs": [],
   "source": [
    "import pygal\n",
    "\n",
    "nm = pygal.maps.world.World()\n",
    "nm.title = 'Populations of Countries in North America'\n",
    "\n",
    "nm.add('North America', {'ca': 34126000, 'us': 309349000, 'mx': 113423000})\n",
    "nm.render_to_file('/Users/momo/Desktop/Python/data_visiable/images/north_americas.svg')"
   ]
  },
  {
   "attachments": {},
   "cell_type": "markdown",
   "metadata": {
    "collapsed": false
   },
   "source": [
    "## 绘制世界人口地图"
   ]
  },
  {
   "cell_type": "code",
   "execution_count": 5,
   "metadata": {
    "ExecuteTime": {
     "end_time": "2023-05-12T11:38:06.095943Z",
     "start_time": "2023-05-12T11:38:06.027387Z"
    },
    "collapsed": false
   },
   "outputs": [],
   "source": [
    "import pygal\n",
    "import json\n",
    "from country import get_country_code\n",
    "from pygal_maps_world.i18n import COUNTRIES\n",
    "\n",
    "filename = '/Users/momo/Desktop/Python' \\\n",
    "           '/data_visiable/2.Download_Data/datas/population_data.json'\n",
    "# 创建一个包含人口数量的字典\n",
    "cc_pop = {}\n",
    "\n",
    "with open(filename) as f:\n",
    "    pop_data = json.load(f)\n",
    "\n",
    "for pop_dict in pop_data:\n",
    "    if pop_dict['Year'] == '2010':\n",
    "        country_name = pop_dict['Country Name']\n",
    "        population = int(float(pop_dict['Value']))\n",
    "        code = get_country_code(country_name)\n",
    "        if code:\n",
    "            cc_pop[code] = population\n",
    "\n",
    "wm = pygal.maps.world.World()\n",
    "wm.title = 'World Population in 2010, by Country'\n",
    "\n",
    "wm.add('2010', cc_pop)\n",
    "\n",
    "wm.render_to_file('/Users/momo/Desktop/Python/data_visiable/images/world_population_map.svg')"
   ]
  },
  {
   "attachments": {},
   "cell_type": "markdown",
   "metadata": {
    "collapsed": false
   },
   "source": [
    "## 根据人口数量分类"
   ]
  },
  {
   "cell_type": "code",
   "execution_count": 7,
   "metadata": {
    "ExecuteTime": {
     "end_time": "2023-05-12T11:43:18.711006Z",
     "start_time": "2023-05-12T11:43:18.637968Z"
    },
    "collapsed": false
   },
   "outputs": [
    {
     "name": "stdout",
     "output_type": "stream",
     "text": [
      "85 69 2\n"
     ]
    }
   ],
   "source": [
    "import pygal\n",
    "import json\n",
    "from pygal_maps_world.i18n import COUNTRIES\n",
    "\n",
    "filename = '/Users/momo/Desktop/Python' \\\n",
    "           '/data_visiable/2.Download_Data/datas/population_data.json'\n",
    "\n",
    "# 存储不同人口数量的国家\n",
    "cc_pops_1, cc_pops_2, cc_pops_3 = {}, {}, {}\n",
    "\n",
    "with open(filename) as f:\n",
    "    pop_data = json.load(f)\n",
    "\n",
    "# 根据人口数量不同分成三类\n",
    "for cc, pop in cc_pop.items():\n",
    "    if pop < 10000000:\n",
    "        cc_pops_1[cc] = pop\n",
    "    elif pop < 1000000000:\n",
    "        cc_pops_2[cc] = pop\n",
    "    else:\n",
    "        cc_pops_3[cc]  =pop\n",
    "\n",
    "# 看看每个组包含多少个国家\n",
    "print(len(cc_pops_1), len(cc_pops_2), len(cc_pops_3))\n",
    "\n",
    "\n",
    "wm = pygal.maps.world.World()\n",
    "wm.title = 'World Population in 2010, by Country'\n",
    "\n",
    "wm.add('0-10m', cc_pops_1)\n",
    "wm.add('10m-1bn', cc_pops_2)\n",
    "wm.add('>1bn', cc_pops_3)\n",
    "\n",
    "wm.render_to_file('/Users/momo/Desktop/Python/data_visiable/images/world_population_map_2.svg')\n"
   ]
  },
  {
   "attachments": {},
   "cell_type": "markdown",
   "metadata": {
    "collapsed": false
   },
   "source": [
    "## 改变配色、增加亮度"
   ]
  },
  {
   "cell_type": "code",
   "execution_count": 10,
   "metadata": {
    "ExecuteTime": {
     "end_time": "2023-05-12T11:55:12.499042Z",
     "start_time": "2023-05-12T11:55:12.430340Z"
    },
    "collapsed": false
   },
   "outputs": [],
   "source": [
    "import pygal\n",
    "import json\n",
    "from pygal_maps_world.i18n import COUNTRIES\n",
    "from pygal.style import RotateStyle as rs\n",
    "from pygal.style import LightColorizedStyle as lcs\n",
    "\n",
    "\n",
    "filename = '/Users/momo/Desktop/Python' \\\n",
    "           '/data_visiable/2.Download_Data/datas/population_data.json'\n",
    "\n",
    "# 存储不同人口数量的国家\n",
    "cc_pops_1, cc_pops_2, cc_pops_3 = {}, {}, {}\n",
    "\n",
    "with open(filename) as f:\n",
    "    pop_data = json.load(f)\n",
    "\n",
    "# 根据人口数量不同分成三类\n",
    "for cc, pop in cc_pop.items():\n",
    "    if pop < 10000000:\n",
    "        cc_pops_1[cc] = pop\n",
    "    elif pop < 1000000000:\n",
    "        cc_pops_2[cc] = pop\n",
    "    else:\n",
    "        cc_pops_3[cc]  =pop\n",
    "\n",
    "\n",
    "wm_style = rs(\n",
    "    '#336699',          # 改变配色\n",
    "    base_style=lcs      # 增加画面亮度\n",
    ")\n",
    "\n",
    "wm = pygal.maps.world.World(style=wm_style)\n",
    "wm.title = 'World Population in 2010, by Country'\n",
    "\n",
    "wm.add('0-10m', cc_pops_1)\n",
    "wm.add('10m-1bn', cc_pops_2)\n",
    "wm.add('>1bn', cc_pops_3)\n",
    "\n",
    "wm.render_to_file('/Users/momo/Desktop/Python/data_visiable/images/world_population_map_3.svg')"
   ]
  }
 ],
 "metadata": {
  "kernelspec": {
   "display_name": "Python 3",
   "language": "python",
   "name": "python3"
  },
  "language_info": {
   "codemirror_mode": {
    "name": "ipython",
    "version": 3
   },
   "file_extension": ".py",
   "mimetype": "text/x-python",
   "name": "python",
   "nbconvert_exporter": "python",
   "pygments_lexer": "ipython3",
   "version": "3.11.3"
  }
 },
 "nbformat": 4,
 "nbformat_minor": 0
}
