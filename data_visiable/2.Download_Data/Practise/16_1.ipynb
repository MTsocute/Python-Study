{
 "cells": [
  {
   "cell_type": "code",
   "execution_count": 5,
   "metadata": {
    "collapsed": true,
    "ExecuteTime": {
     "end_time": "2023-05-08T11:56:20.013089Z",
     "start_time": "2023-05-08T11:56:20.006923Z"
    }
   },
   "outputs": [
    {
     "name": "stdout",
     "output_type": "stream",
     "text": [
      "0 - Data.Precipitation\n",
      "1 - Date.Full\n",
      "2 - Date.Month\n",
      "3 - Date.Week of\n",
      "4 - Date.Year\n",
      "5 - Station.City\n",
      "6 - Station.Code\n",
      "7 - Station.Location\n",
      "8 - Station.State\n",
      "9 - Data.Temperature.Avg Temp\n",
      "10 - Data.Temperature.Max Temp\n",
      "11 - Data.Temperature.Min Temp\n",
      "12 - Data.Wind.Direction\n",
      "13 - Data.Wind.Speed\n"
     ]
    }
   ],
   "source": [
    "import csv\n",
    "\n",
    "filename = \"/Users/momo/Desktop/Python/data_visiable/2.Download_Data/datas/weather.csv\"\n",
    "\n",
    "with open(filename) as f:\n",
    "    reader = csv.reader(f)\n",
    "    head_line = next(reader)\n",
    "\n",
    "\n",
    "for index, tittle in enumerate(head_line):\n",
    "    print(f'{index} - {tittle}')\n"
   ]
  },
  {
   "cell_type": "code",
   "execution_count": 27,
   "outputs": [
    {
     "name": "stdout",
     "output_type": "stream",
     "text": [
      "{'Alabama': 211, 'Alaska': 1718, 'Arizona': 264, 'Arkansas': 158, 'California': 998, 'Colorado': 317, 'Connecticut': 105, 'DE': 52, 'Delaware': 52, 'Florida': 635, 'Georgia': 317, 'Hawaii': 264, 'Idaho': 158, 'Illinois': 317, 'Indiana': 211, 'Iowa': 264, 'Kansas': 317, 'Kentucky': 264, 'Louisiana': 260, 'Maine': 158, 'Maryland': 105, 'Massachusetts': 152, 'Michigan': 476, 'Minnesota': 264, 'Mississippi': 370, 'Missouri': 370, 'Montana': 582, 'Nebraska': 423, 'Nevada': 317, 'New Hampshire': 99, 'New Jersey': 105, 'New Mexico': 158, 'New York': 423, 'North Carolina': 370, 'North Dakota': 264, 'Ohio': 370, 'Oklahoma': 211, 'Oregon': 423, 'Pennsylvania': 370, 'Puerto Rico': 52, 'Rhode Island': 52, 'South Carolina': 211, 'South Dakota': 264, 'Tennessee': 419, 'Texas': 1271, 'Utah': 52, 'VA': 52, 'Vermont': 52, 'Virginia': 317, 'Washington': 370, 'West Virginia': 211, 'Wisconsin': 211, 'Wyoming': 264}\n"
     ]
    }
   ],
   "source": [
    "import pygal\n",
    "import csv\n",
    "\n",
    "filename = \"/Users/momo/Desktop/Python/data_visiable/2.Download_Data/datas/weather.csv\"\n",
    "\n",
    "with open(filename) as f:\n",
    "    reader = csv.reader(f)\n",
    "    head_line = next(reader)\n",
    "\n",
    "    states = {}\n",
    "    # 循环获取用户输入的城市\n",
    "    for row in reader:\n",
    "        state = row[8]\n",
    "        if state in states:\n",
    "            states[str(state)] += 1\n",
    "        else:\n",
    "            states[str(state)] = 0\n",
    "\n",
    "print(states)\n",
    "\n",
    "# 生成直方图\n",
    "hist = pygal.Bar()\n",
    "\n",
    "hist.title = \"Frequency of State Appears in the CSV\"\n",
    "\n",
    "hist.x_labels = [state_name for state_name in states]\n",
    "# print(hist_x_lable)\n",
    "\n",
    "hist.x_title = \"State Name\"\n",
    "hist.y_title = \"Frequency\"\n",
    "\n",
    "\n",
    "# print(list(states.values()))\n",
    "hist.add('State', list(states.values()))\n",
    "\n",
    "hist.render_to_file('/Users/momo/Desktop/Python/data_visiable/images/states.svg')"
   ],
   "metadata": {
    "collapsed": false,
    "ExecuteTime": {
     "end_time": "2023-05-08T12:28:44.393694Z",
     "start_time": "2023-05-08T12:28:44.336768Z"
    }
   }
  }
 ],
 "metadata": {
  "kernelspec": {
   "display_name": "Python 3",
   "language": "python",
   "name": "python3"
  },
  "language_info": {
   "codemirror_mode": {
    "name": "ipython",
    "version": 2
   },
   "file_extension": ".py",
   "mimetype": "text/x-python",
   "name": "python",
   "nbconvert_exporter": "python",
   "pygments_lexer": "ipython2",
   "version": "2.7.6"
  }
 },
 "nbformat": 4,
 "nbformat_minor": 0
}
