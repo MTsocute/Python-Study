{
 "cells": [
  {
   "cell_type": "markdown",
   "source": [
    "# 实现可视化（按照标星）"
   ],
   "metadata": {
    "collapsed": false
   }
  },
  {
   "cell_type": "code",
   "execution_count": 11,
   "outputs": [],
   "source": [
    "import requests\n",
    "import pygal\n",
    "from pygal.style import LightColorizedStyle as LCS, LightenStyle as LS\n",
    "\n",
    "url = 'https://api.github.com/search/repositories?q=language:python&sort=stars' # 请求地址\n",
    "r = requests.get(url)   # 请求对象\n",
    "\n",
    "# 将API响应存储在一个字典中\n",
    "rep_dict = r.json()\n",
    "\n",
    "# 所有的仓库\n",
    "repo_dicts = rep_dict['items']\n",
    "\n",
    "# 存储作者和星星数的列表\n",
    "names, stars = [], []\n",
    "\n",
    "# 遍历每一个仓库，把对应做和和星数存在列表中\n",
    "for rep in repo_dicts:\n",
    "    names.append(rep[\"name\"])\n",
    "    stars.append(rep[\"stargazers_count\"])\n",
    "\n",
    "# 优化下设置，让图更好看\n",
    "my_config = pygal.Config()\n",
    "my_config.x_label_rotation = 45     # 坐标标签旋转 45 度\n",
    "my_config.show_legend = False       # 不显示图例(左上角小按钮)\n",
    "my_config.title_font_size = 24\n",
    "my_config.label_font_size = 14\n",
    "my_config.major_label_font_size = 18\n",
    "my_config.truncate_label = 15       # 如果坐标标签长度超过15个字符，则截断显示\n",
    "my_config.show_y_guides = False     # 不显示Y轴的辅助线\n",
    "my_config.width = 1000\n",
    "my_style = LS('#333366', base_style=LCS)\n",
    "\n",
    "# 可视化\n",
    "chart = pygal.Bar(my_config, style=my_style)\n",
    "\n",
    "chart.title = 'Most-Starred Python Projects on GitHub'\n",
    "chart.x_labels = names\n",
    "chart.add('', stars)\n",
    "chart.render_to_file('/Users/momo/Desktop/Python/data_visiable/images/python_repos_2.svg')"
   ],
   "metadata": {
    "collapsed": false,
    "ExecuteTime": {
     "end_time": "2023-05-13T07:13:49.250310Z",
     "start_time": "2023-05-13T07:13:47.245341Z"
    }
   }
  },
  {
   "cell_type": "markdown",
   "source": [
    "## 实现可视化的同时，顺便再交互的时候加入描述"
   ],
   "metadata": {
    "collapsed": false
   }
  },
  {
   "cell_type": "code",
   "execution_count": 8,
   "outputs": [
    {
     "name": "stdout",
     "output_type": "stream",
     "text": [
      "Done!\n"
     ]
    }
   ],
   "source": [
    "from pygal.style import LightColorizedStyle as LCS, LightenStyle as LS\n",
    "my_style = LS('#333366', base_style=LCS)\n",
    "\n",
    "# 可视化\n",
    "chart = pygal.Bar(style=my_style, x_label_rotation=45, show_legend=False)\n",
    "chart.title = 'Python Projects'\n",
    "chart.x_labels = ['httpie', 'django', 'flask']\n",
    "\n",
    "\"\"\" 注意哈，这里是一个列表里面放字典 \"\"\"\n",
    "plot_dicts = [\n",
    "    {'value': 16101, 'label': 'Description of httpie.'},\n",
    "    {'value': 15028, 'label': 'Description of django.'},\n",
    "    {'value': 14798, 'label': 'Description of flask.'},\n",
    "]\n",
    "\n",
    "chart.add(' ', plot_dicts)\n",
    "\n",
    "chart.render_to_file(\"/Users/momo/Desktop/Python/data_visiable/images/bar_descriptions.svg\")\n",
    "print(\"Done!\")"
   ],
   "metadata": {
    "collapsed": false,
    "ExecuteTime": {
     "end_time": "2023-05-13T07:00:59.269607Z",
     "start_time": "2023-05-13T07:00:59.247208Z"
    }
   }
  },
  {
   "cell_type": "markdown",
   "source": [
    "## 再上面那个代码复现"
   ],
   "metadata": {
    "collapsed": false
   }
  },
  {
   "cell_type": "code",
   "execution_count": 12,
   "outputs": [
    {
     "name": "stdout",
     "output_type": "stream",
     "text": [
      "Done!\n"
     ]
    }
   ],
   "source": [
    "import requests\n",
    "import pygal\n",
    "from pygal.style import LightColorizedStyle as LCS, LightenStyle as LS\n",
    "\n",
    "url = 'https://api.github.com/search/repositories?q=language:python&sort=stars' # 请求地址\n",
    "r = requests.get(url)   # 请求对象\n",
    "\n",
    "# 将API响应存储在一个字典中\n",
    "rep_dict = r.json()\n",
    "\n",
    "# 所有的仓库\n",
    "repo_dicts = rep_dict['items']\n",
    "\n",
    "# 存储作者和星星数的列表\n",
    "names, plot_dicts = [], []\n",
    "\n",
    "# 遍历每一个仓库\n",
    "for rep in repo_dicts:\n",
    "    names.append(rep[\"name\"])   # 作者存入\n",
    "\n",
    "    # 星值和对应的描述\n",
    "    plot_dict = {\n",
    "        'value': rep['stargazers_count'],\n",
    "        'label': rep['description']\n",
    "    }\n",
    "\n",
    "    plot_dicts.append(plot_dict)\n",
    "\n",
    "# 优化下设置，让图更好看\n",
    "my_config = pygal.Config()\n",
    "my_config.x_label_rotation = 45     # 坐标标签旋转 45 度\n",
    "my_config.show_legend = False       # 不显示图例(左上角小按钮)\n",
    "my_config.title_font_size = 24\n",
    "my_config.label_font_size = 14\n",
    "my_config.major_label_font_size = 18\n",
    "my_config.truncate_label = 15       # 如果坐标标签长度超过15个字符，则截断显示\n",
    "my_config.show_y_guides = False     # 不显示Y轴的辅助线\n",
    "my_config.width = 1000\n",
    "my_style = LS('#333366', base_style=LCS)\n",
    "\n",
    "# 可视化\n",
    "chart = pygal.Bar(my_config, style=my_style)\n",
    "\n",
    "chart.title = 'Most-Starred Python Projects on GitHub'\n",
    "chart.x_labels = names\n",
    "\"\"\"传入字典列表\"\"\"\n",
    "chart.add('', plot_dicts)\n",
    "chart.render_to_file('/Users/momo/Desktop/Python/data_visiable/images/python_repos_3.svg')\n",
    "\n",
    "print(\"Done!\")"
   ],
   "metadata": {
    "collapsed": false,
    "ExecuteTime": {
     "end_time": "2023-05-13T07:14:26.024829Z",
     "start_time": "2023-05-13T07:14:23.187915Z"
    }
   }
  },
  {
   "cell_type": "markdown",
   "source": [
    "## 加入可点击的链接实现跳转"
   ],
   "metadata": {
    "collapsed": false
   }
  },
  {
   "cell_type": "code",
   "execution_count": 14,
   "outputs": [
    {
     "name": "stdout",
     "output_type": "stream",
     "text": [
      "Done!\n"
     ]
    }
   ],
   "source": [
    "import requests\n",
    "import pygal\n",
    "from pygal.style import LightColorizedStyle as LCS, LightenStyle as LS\n",
    "\n",
    "url = 'https://api.github.com/search/repositories?q=language:python&sort=stars' # 请求地址\n",
    "r = requests.get(url)   # 请求对象\n",
    "\n",
    "# 将API响应存储在一个字典中\n",
    "rep_dict = r.json()\n",
    "\n",
    "# 所有的仓库\n",
    "repo_dicts = rep_dict['items']\n",
    "\n",
    "# 存储作者和星星数的列表\n",
    "names, plot_dicts = [], []\n",
    "\n",
    "# 遍历每一个仓库\n",
    "for rep in repo_dicts:\n",
    "    names.append(rep[\"name\"])   # 作者存入\n",
    "\n",
    "    # 星值和对应的描述\n",
    "    plot_dict = {\n",
    "        'value': rep['stargazers_count'],\n",
    "        'label': rep['description'],\n",
    "        'xlink': rep['html_url']    # 点击图柱跳转\n",
    "    }\n",
    "\n",
    "    plot_dicts.append(plot_dict)\n",
    "\n",
    "# 优化下设置，让图更好看\n",
    "my_config = pygal.Config()\n",
    "my_config.x_label_rotation = 45     # 坐标标签旋转 45 度\n",
    "my_config.show_legend = False       # 不显示图例(左上角小按钮)\n",
    "my_config.title_font_size = 24\n",
    "my_config.label_font_size = 14\n",
    "my_config.major_label_font_size = 18\n",
    "my_config.truncate_label = 15       # 如果坐标标签长度超过15个字符，则截断显示\n",
    "my_config.show_y_guides = False     # 不显示Y轴的辅助线\n",
    "my_config.width = 1000\n",
    "my_style = LS('#333366', base_style=LCS)\n",
    "\n",
    "# 可视化\n",
    "chart = pygal.Bar(my_config, style=my_style)\n",
    "\n",
    "chart.title = 'Most-Starred Python Projects on GitHub'\n",
    "chart.x_labels = names\n",
    "\"\"\"传入字典列表\"\"\"\n",
    "chart.add('', plot_dicts)\n",
    "chart.render_to_file('/Users/momo/Desktop/Python/data_visiable/images/python_repos_4.svg')\n",
    "\n",
    "print(\"Done!\")"
   ],
   "metadata": {
    "collapsed": false,
    "ExecuteTime": {
     "end_time": "2023-05-13T07:18:19.346410Z",
     "start_time": "2023-05-13T07:18:17.417625Z"
    }
   }
  }
 ],
 "metadata": {
  "kernelspec": {
   "display_name": "Python 3",
   "language": "python",
   "name": "python3"
  },
  "language_info": {
   "codemirror_mode": {
    "name": "ipython",
    "version": 2
   },
   "file_extension": ".py",
   "mimetype": "text/x-python",
   "name": "python",
   "nbconvert_exporter": "python",
   "pygments_lexer": "ipython2",
   "version": "2.7.6"
  }
 },
 "nbformat": 4,
 "nbformat_minor": 0
}
